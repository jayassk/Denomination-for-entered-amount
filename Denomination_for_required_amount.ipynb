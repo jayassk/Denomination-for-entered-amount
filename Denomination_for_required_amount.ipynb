{
  "nbformat": 4,
  "nbformat_minor": 0,
  "metadata": {
    "colab": {
      "provenance": [],
      "authorship_tag": "ABX9TyPpfLdzkODQ8E7QudikAtYK",
      "include_colab_link": true
    },
    "kernelspec": {
      "name": "python3",
      "display_name": "Python 3"
    },
    "language_info": {
      "name": "python"
    }
  },
  "cells": [
    {
      "cell_type": "markdown",
      "metadata": {
        "id": "view-in-github",
        "colab_type": "text"
      },
      "source": [
        "<a href=\"https://colab.research.google.com/github/jayassk/Denomination-for-entered-amount/blob/main/Denomination_for_required_amount.ipynb\" target=\"_parent\"><img src=\"https://colab.research.google.com/assets/colab-badge.svg\" alt=\"Open In Colab\"/></a>"
      ]
    },
    {
      "cell_type": "code",
      "execution_count": null,
      "metadata": {
        "id": "ATc5wJ22l6Fz",
        "outputId": "d073549b-6a58-47aa-bd5a-1d2a7eb0efdd",
        "colab": {
          "base_uri": "https://localhost:8080/"
        }
      },
      "outputs": [
        {
          "output_type": "stream",
          "name": "stdout",
          "text": [
            "enter amount51200\n",
            "₹2000= 25 ₹500= 2 ₹200= 1 ₹100= 0 ₹50= 0 ₹20= 0 ₹10= 0 ₹5= 0 ₹2= 0 ₹1= 0\n"
          ]
        }
      ],
      "source": [
        "#Denomination for entered amount in different notes\n",
        "a=int(input(\"enter amount\"))\n",
        "b=a//2000 \n",
        "c=a%2000\n",
        "d=c//500\n",
        "e=c%500\n",
        "f=e//200\n",
        "g=e%200\n",
        "h=g//100\n",
        "i=g%100\n",
        "j=i//50\n",
        "k=i%50\n",
        "l=k//20\n",
        "m=k%20\n",
        "n=m//10\n",
        "o=m%10\n",
        "p=o//5\n",
        "q=o%5\n",
        "r=q//2\n",
        "s=q%2\n",
        "t=s//1\n",
        "u=s%1\n",
        "print('₹2000=',b,'₹500=',d,'₹200=',f,'₹100=',h,'₹50=',j,'₹20=',l,'₹10=',n,'₹5=',p,'₹2=',r,'₹1=',t)"
      ]
    }
  ]
}